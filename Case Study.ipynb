{
 "cells": [
  {
   "cell_type": "markdown",
   "id": "a4af437c-101f-4b20-82ab-1999d00beb95",
   "metadata": {},
   "source": [
    "# Company Background\n",
    "***Travel Assured is a travel insurance company. Due to the COVID pandemic, they have had to\n",
    "cut their marketing budget by over 50%. It is more important than ever that they advertise in\n",
    "the right places and to the right people***\n",
    "\n",
    "***Travel Assured has plenty of data on their current customers as well as people who got\n",
    "quotes but never bought insurance.***\n",
    "\n",
    "## Customer Question\n",
    "***They want to know:***\n",
    "\n",
    "***1. Are there differences in the travel habits between customers and non-customers?***\n",
    "\n",
    "***2. What is the typical profile of customers and non-customers?***"
   ]
  },
  {
   "cell_type": "markdown",
   "id": "83737e57-5c32-4aee-9a2f-d441c9c0e3e3",
   "metadata": {},
   "source": [
    "# Importing Libraries / Reading Data"
   ]
  },
  {
   "cell_type": "code",
   "execution_count": 1,
   "id": "467d2255-c5b7-4b1a-8bcd-23a9ff9c3c58",
   "metadata": {},
   "outputs": [],
   "source": [
    "import pandas as pd\n",
    "import numpy as np\n",
    "\n",
    "import seaborn as sns\n",
    "sns.set_theme(style = 'darkgrid', palette= 'dark')\n",
    "\n",
    "import matplotlib.pyplot as plt"
   ]
  },
  {
   "cell_type": "code",
   "execution_count": 2,
   "id": "21d72fe1-57cd-4ece-910d-44509909ae96",
   "metadata": {},
   "outputs": [],
   "source": [
    "df = pd.read_csv('travel_insurance.csv')"
   ]
  },
  {
   "cell_type": "markdown",
   "id": "0d5493e3-5c37-45a1-973c-d2c3cc6ec8e2",
   "metadata": {},
   "source": [
    "# Explanatory Data Analysis"
   ]
  },
  {
   "cell_type": "markdown",
   "id": "20a8fe62-b3ff-403a-932f-6bd231a850f2",
   "metadata": {},
   "source": [
    "## Dataset Columns\n",
    "|Columns            | Description                                                  |\n",
    "|-------------------|--------------------------------------------------------------|\n",
    "|Age                |Numeric, the customer’s age                                   |\n",
    "|Employment Type    |Character, the sector of employment                           |\n",
    "|GraduateOrNot      |Character, whether the customer is a college graduate         |\n",
    "|AnnualIncome       |Numeric, the customer’s yearly income                         |\n",
    "|FamilyMembers      |Numeric, the number of family members living with the customer|\n",
    "|ChronicDiseases    |Numeric, whether the customer has any chronic conditions      |\n",
    "|FrequentFlyer      |Character, whether a customer books frequent tickets          |\n",
    "|EverTravelledAbroad|Character, has the customer ever travelled abroad             |\n",
    "|TravelInsurance    |Numeric, whether the customer bought travel insurance         |"
   ]
  },
  {
   "cell_type": "code",
   "execution_count": 3,
   "id": "a0fb62bd-9c86-414a-b9f1-eca628c9e520",
   "metadata": {},
   "outputs": [
    {
     "data": {
      "text/html": [
       "<div>\n",
       "<style scoped>\n",
       "    .dataframe tbody tr th:only-of-type {\n",
       "        vertical-align: middle;\n",
       "    }\n",
       "\n",
       "    .dataframe tbody tr th {\n",
       "        vertical-align: top;\n",
       "    }\n",
       "\n",
       "    .dataframe thead th {\n",
       "        text-align: right;\n",
       "    }\n",
       "</style>\n",
       "<table border=\"1\" class=\"dataframe\">\n",
       "  <thead>\n",
       "    <tr style=\"text-align: right;\">\n",
       "      <th></th>\n",
       "      <th>Age</th>\n",
       "      <th>Employment Type</th>\n",
       "      <th>GraduateOrNot</th>\n",
       "      <th>AnnualIncome</th>\n",
       "      <th>FamilyMembers</th>\n",
       "      <th>ChronicDiseases</th>\n",
       "      <th>FrequentFlyer</th>\n",
       "      <th>EverTravelledAbroad</th>\n",
       "      <th>TravelInsurance</th>\n",
       "    </tr>\n",
       "  </thead>\n",
       "  <tbody>\n",
       "    <tr>\n",
       "      <th>0</th>\n",
       "      <td>31</td>\n",
       "      <td>Government Sector</td>\n",
       "      <td>Yes</td>\n",
       "      <td>400000</td>\n",
       "      <td>6</td>\n",
       "      <td>1</td>\n",
       "      <td>No</td>\n",
       "      <td>No</td>\n",
       "      <td>0</td>\n",
       "    </tr>\n",
       "    <tr>\n",
       "      <th>1</th>\n",
       "      <td>31</td>\n",
       "      <td>Private Sector/Self Employed</td>\n",
       "      <td>Yes</td>\n",
       "      <td>1250000</td>\n",
       "      <td>7</td>\n",
       "      <td>0</td>\n",
       "      <td>No</td>\n",
       "      <td>No</td>\n",
       "      <td>0</td>\n",
       "    </tr>\n",
       "    <tr>\n",
       "      <th>2</th>\n",
       "      <td>34</td>\n",
       "      <td>Private Sector/Self Employed</td>\n",
       "      <td>Yes</td>\n",
       "      <td>500000</td>\n",
       "      <td>4</td>\n",
       "      <td>1</td>\n",
       "      <td>No</td>\n",
       "      <td>No</td>\n",
       "      <td>1</td>\n",
       "    </tr>\n",
       "    <tr>\n",
       "      <th>3</th>\n",
       "      <td>28</td>\n",
       "      <td>Private Sector/Self Employed</td>\n",
       "      <td>Yes</td>\n",
       "      <td>700000</td>\n",
       "      <td>3</td>\n",
       "      <td>1</td>\n",
       "      <td>No</td>\n",
       "      <td>No</td>\n",
       "      <td>0</td>\n",
       "    </tr>\n",
       "    <tr>\n",
       "      <th>4</th>\n",
       "      <td>28</td>\n",
       "      <td>Private Sector/Self Employed</td>\n",
       "      <td>Yes</td>\n",
       "      <td>700000</td>\n",
       "      <td>8</td>\n",
       "      <td>1</td>\n",
       "      <td>Yes</td>\n",
       "      <td>No</td>\n",
       "      <td>0</td>\n",
       "    </tr>\n",
       "  </tbody>\n",
       "</table>\n",
       "</div>"
      ],
      "text/plain": [
       "   Age               Employment Type GraduateOrNot  AnnualIncome  \\\n",
       "0   31             Government Sector           Yes        400000   \n",
       "1   31  Private Sector/Self Employed           Yes       1250000   \n",
       "2   34  Private Sector/Self Employed           Yes        500000   \n",
       "3   28  Private Sector/Self Employed           Yes        700000   \n",
       "4   28  Private Sector/Self Employed           Yes        700000   \n",
       "\n",
       "   FamilyMembers  ChronicDiseases FrequentFlyer EverTravelledAbroad  \\\n",
       "0              6                1            No                  No   \n",
       "1              7                0            No                  No   \n",
       "2              4                1            No                  No   \n",
       "3              3                1            No                  No   \n",
       "4              8                1           Yes                  No   \n",
       "\n",
       "   TravelInsurance  \n",
       "0                0  \n",
       "1                0  \n",
       "2                1  \n",
       "3                0  \n",
       "4                0  "
      ]
     },
     "execution_count": 3,
     "metadata": {},
     "output_type": "execute_result"
    }
   ],
   "source": [
    "df.head()"
   ]
  },
  {
   "cell_type": "code",
   "execution_count": 4,
   "id": "971b6f19-5549-4de6-a1f2-0e720e6c5db7",
   "metadata": {},
   "outputs": [
    {
     "name": "stdout",
     "output_type": "stream",
     "text": [
      "<class 'pandas.core.frame.DataFrame'>\n",
      "RangeIndex: 1987 entries, 0 to 1986\n",
      "Data columns (total 9 columns):\n",
      " #   Column               Non-Null Count  Dtype \n",
      "---  ------               --------------  ----- \n",
      " 0   Age                  1987 non-null   int64 \n",
      " 1   Employment Type      1987 non-null   object\n",
      " 2   GraduateOrNot        1987 non-null   object\n",
      " 3   AnnualIncome         1987 non-null   int64 \n",
      " 4   FamilyMembers        1987 non-null   int64 \n",
      " 5   ChronicDiseases      1987 non-null   int64 \n",
      " 6   FrequentFlyer        1987 non-null   object\n",
      " 7   EverTravelledAbroad  1987 non-null   object\n",
      " 8   TravelInsurance      1987 non-null   int64 \n",
      "dtypes: int64(5), object(4)\n",
      "memory usage: 139.8+ KB\n"
     ]
    }
   ],
   "source": [
    "df.info()"
   ]
  },
  {
   "cell_type": "code",
   "execution_count": 5,
   "id": "4f1cc134-c4f7-4fec-9ce6-48c05aa2df8d",
   "metadata": {},
   "outputs": [
    {
     "data": {
      "text/plain": [
       "Age                    0\n",
       "Employment Type        0\n",
       "GraduateOrNot          0\n",
       "AnnualIncome           0\n",
       "FamilyMembers          0\n",
       "ChronicDiseases        0\n",
       "FrequentFlyer          0\n",
       "EverTravelledAbroad    0\n",
       "TravelInsurance        0\n",
       "dtype: int64"
      ]
     },
     "execution_count": 5,
     "metadata": {},
     "output_type": "execute_result"
    }
   ],
   "source": [
    "df.isna().sum()"
   ]
  },
  {
   "cell_type": "markdown",
   "id": "2d90dbfa-85ee-4293-b011-70931cebe4fd",
   "metadata": {},
   "source": [
    "***There are no missing values within the data***"
   ]
  },
  {
   "cell_type": "code",
   "execution_count": 6,
   "id": "8083455e-3363-4d42-bcdd-40b1e9a891ea",
   "metadata": {},
   "outputs": [
    {
     "data": {
      "text/html": [
       "<div>\n",
       "<style scoped>\n",
       "    .dataframe tbody tr th:only-of-type {\n",
       "        vertical-align: middle;\n",
       "    }\n",
       "\n",
       "    .dataframe tbody tr th {\n",
       "        vertical-align: top;\n",
       "    }\n",
       "\n",
       "    .dataframe thead th {\n",
       "        text-align: right;\n",
       "    }\n",
       "</style>\n",
       "<table border=\"1\" class=\"dataframe\">\n",
       "  <thead>\n",
       "    <tr style=\"text-align: right;\">\n",
       "      <th></th>\n",
       "      <th>Age</th>\n",
       "      <th>AnnualIncome</th>\n",
       "      <th>FamilyMembers</th>\n",
       "      <th>ChronicDiseases</th>\n",
       "      <th>TravelInsurance</th>\n",
       "    </tr>\n",
       "  </thead>\n",
       "  <tbody>\n",
       "    <tr>\n",
       "      <th>count</th>\n",
       "      <td>1987.000000</td>\n",
       "      <td>1.987000e+03</td>\n",
       "      <td>1987.000000</td>\n",
       "      <td>1987.000000</td>\n",
       "      <td>1987.000000</td>\n",
       "    </tr>\n",
       "    <tr>\n",
       "      <th>mean</th>\n",
       "      <td>29.650226</td>\n",
       "      <td>9.327630e+05</td>\n",
       "      <td>4.752894</td>\n",
       "      <td>0.277806</td>\n",
       "      <td>0.357323</td>\n",
       "    </tr>\n",
       "    <tr>\n",
       "      <th>std</th>\n",
       "      <td>2.913308</td>\n",
       "      <td>3.768557e+05</td>\n",
       "      <td>1.609650</td>\n",
       "      <td>0.448030</td>\n",
       "      <td>0.479332</td>\n",
       "    </tr>\n",
       "    <tr>\n",
       "      <th>min</th>\n",
       "      <td>25.000000</td>\n",
       "      <td>3.000000e+05</td>\n",
       "      <td>2.000000</td>\n",
       "      <td>0.000000</td>\n",
       "      <td>0.000000</td>\n",
       "    </tr>\n",
       "    <tr>\n",
       "      <th>25%</th>\n",
       "      <td>28.000000</td>\n",
       "      <td>6.000000e+05</td>\n",
       "      <td>4.000000</td>\n",
       "      <td>0.000000</td>\n",
       "      <td>0.000000</td>\n",
       "    </tr>\n",
       "    <tr>\n",
       "      <th>50%</th>\n",
       "      <td>29.000000</td>\n",
       "      <td>9.000000e+05</td>\n",
       "      <td>5.000000</td>\n",
       "      <td>0.000000</td>\n",
       "      <td>0.000000</td>\n",
       "    </tr>\n",
       "    <tr>\n",
       "      <th>75%</th>\n",
       "      <td>32.000000</td>\n",
       "      <td>1.250000e+06</td>\n",
       "      <td>6.000000</td>\n",
       "      <td>1.000000</td>\n",
       "      <td>1.000000</td>\n",
       "    </tr>\n",
       "    <tr>\n",
       "      <th>max</th>\n",
       "      <td>35.000000</td>\n",
       "      <td>1.800000e+06</td>\n",
       "      <td>9.000000</td>\n",
       "      <td>1.000000</td>\n",
       "      <td>1.000000</td>\n",
       "    </tr>\n",
       "  </tbody>\n",
       "</table>\n",
       "</div>"
      ],
      "text/plain": [
       "               Age  AnnualIncome  FamilyMembers  ChronicDiseases  \\\n",
       "count  1987.000000  1.987000e+03    1987.000000      1987.000000   \n",
       "mean     29.650226  9.327630e+05       4.752894         0.277806   \n",
       "std       2.913308  3.768557e+05       1.609650         0.448030   \n",
       "min      25.000000  3.000000e+05       2.000000         0.000000   \n",
       "25%      28.000000  6.000000e+05       4.000000         0.000000   \n",
       "50%      29.000000  9.000000e+05       5.000000         0.000000   \n",
       "75%      32.000000  1.250000e+06       6.000000         1.000000   \n",
       "max      35.000000  1.800000e+06       9.000000         1.000000   \n",
       "\n",
       "       TravelInsurance  \n",
       "count      1987.000000  \n",
       "mean          0.357323  \n",
       "std           0.479332  \n",
       "min           0.000000  \n",
       "25%           0.000000  \n",
       "50%           0.000000  \n",
       "75%           1.000000  \n",
       "max           1.000000  "
      ]
     },
     "execution_count": 6,
     "metadata": {},
     "output_type": "execute_result"
    }
   ],
   "source": [
    "# Quantitative Data Summary\n",
    "df.describe()"
   ]
  },
  {
   "cell_type": "markdown",
   "id": "95f911f8-bd63-4139-8278-0cd13e1ed1ec",
   "metadata": {},
   "source": [
    "## Dataset Columns\n",
    "|Columns            | Description                                                  |\n",
    "|-------------------|--------------------------------------------------------------|\n",
    "|Age                |Quantitative -> Discrete                                      |\n",
    "|Employment Type    |Categorical -> Nominal                                        |\n",
    "|GraduateOrNot      |Categorical -> Nominal                                        |\n",
    "|AnnualIncome       |Quantitative -> Continuous                                    |\n",
    "|FamilyMembers      |Quantitative -> Discrete                                      |\n",
    "|ChronicDiseases    |Categorical -> Nominal                                        |\n",
    "|FrequentFlyer      |Categorical -> Nominal                                        |\n",
    "|EverTravelledAbroad|Categorical -> Nominal                                        |\n",
    "|TravelInsurance    |Dependent Variable                                            |"
   ]
  },
  {
   "cell_type": "markdown",
   "id": "c7d8b720-23ed-4d43-a75d-09e31407b094",
   "metadata": {},
   "source": [
    "## Visual Data Analysis"
   ]
  },
  {
   "cell_type": "code",
   "execution_count": 7,
   "id": "218cdc48-4acb-43df-b878-d9cabed38bc8",
   "metadata": {},
   "outputs": [
    {
     "data": {
      "image/png": "[encoded data removed]",
      "text/plain": [
       "<Figure size 360x360 with 1 Axes>"
      ]
     },
     "metadata": {},
     "output_type": "display_data"
    }
   ],
   "source": [
    "# Value counts TravelInsurance (0 v 1)\n",
    "sns.catplot(x = 'TravelInsurance', data=df, kind='count')\n",
    "\n",
    "plt.title('Count of Non-Customers vs Customers')\n",
    "plt.xlabel('Travel Insurance No/Yes')\n",
    "plt.show()"
   ]
  },
  {
   "cell_type": "markdown",
   "id": "750d6880-4d55-45ab-a969-21390fc08561",
   "metadata": {},
   "source": [
    "***There is an imbalance of people who bought insurance travel vs those who didn't***"
   ]
  },
  {
   "cell_type": "markdown",
   "id": "20fb50ae-cc0d-433c-a0fd-63972dfa643a",
   "metadata": {},
   "source": [
    "### Univariate Analysis "
   ]
  },
  {
   "cell_type": "code",
   "execution_count": 8,
   "id": "ebfb7c73",
   "metadata": {},
   "outputs": [],
   "source": [
    "df_no = df.loc[df['TravelInsurance'] == 0]\n",
    "df_yes = df.loc[df['TravelInsurance'] == 1]"
   ]
  },
  {
   "cell_type": "markdown",
   "id": "3be1ca87",
   "metadata": {},
   "source": [
    "#### Numeric\n",
    "1. Age \n",
    "2. Annual Income\n",
    "3. Family Members"
   ]
  },
  {
   "cell_type": "code",
   "execution_count": 9,
   "id": "0e6acec5-a1f4-4abe-8c2e-f97ce3ce7c34",
   "metadata": {},
   "outputs": [
    {
     "data": {
      "image/png": "[encoded data removed]",
      "text/plain": [
       "<Figure size 1080x360 with 2 Axes>"
      ]
     },
     "metadata": {},
     "output_type": "display_data"
    }
   ],
   "source": [
    "# Age\n",
    "# Mean of the age, distribution of the age\n",
    "fig, axes = plt.subplots(1, 2, sharex=True, figsize=(15, 5))\n",
    "sns.countplot(x = 'Age', data=df_no, ax=axes[0])\n",
    "axes[0].axvline(4.5, ls = '--')\n",
    "axes[0].set_xlabel('Age with mean')\n",
    "axes[0].set_ylabel('Count')\n",
    "axes[0].set_title('Non-Customers - Distribution of Age')\n",
    "\n",
    "sns.countplot(x = 'Age', data=df_yes, ax=axes[1])\n",
    "axes[1].axvline(4.5, ls = '--')\n",
    "axes[1].set_xlabel('Age with mean')\n",
    "axes[1].set_ylabel('Count')\n",
    "axes[1].set_title('Customers - Distribution of Age')\n",
    "plt.show()"
   ]
  },
  {
   "cell_type": "markdown",
   "id": "df984ec6-f2f5-4f43-a624-8f28f313c23b",
   "metadata": {},
   "source": [
    "The average age is the same, no real difference the older people buy insurance more"
   ]
  },
  {
   "cell_type": "code",
   "execution_count": 10,
   "id": "7c273795",
   "metadata": {},
   "outputs": [
    {
     "data": {
      "image/png": "[encoded data removed]",
      "text/plain": [
       "<Figure size 432x288 with 1 Axes>"
      ]
     },
     "metadata": {},
     "output_type": "display_data"
    }
   ],
   "source": [
    "# Boxplot of Age\n",
    "sns.boxplot(x = 'TravelInsurance', y = 'Age', data=df)\n",
    "plt.xlabel('Age with mean')\n",
    "plt.ylabel('Count')\n",
    "plt.title('Distribution of Age')\n",
    "plt.show()"
   ]
  },
  {
   "cell_type": "markdown",
   "id": "60d56db3",
   "metadata": {},
   "source": [
    "Spread of the age for non-customers is much tighter than for customers, the data for although is centered around the age of 29."
   ]
  },
  {
   "cell_type": "code",
   "execution_count": 11,
   "id": "b099270b",
   "metadata": {},
   "outputs": [
    {
     "data": {
      "image/png": "[encoded data removed]",
      "text/plain": [
       "<Figure size 1080x360 with 2 Axes>"
      ]
     },
     "metadata": {},
     "output_type": "display_data"
    }
   ],
   "source": [
    "sns.set_palette('RdBu')\n",
    "fig, ax = plt.subplots(1, 2, sharex=True, figsize=(15, 5))\n",
    "sns.histplot(x = 'AnnualIncome', data=df_no, ax=ax[0])\n",
    "ax[0].set_xlabel('Annual Income')\n",
    "ax[0].set_ylabel('Count')\n",
    "ax[0].set_title('Non-Customers - Distribution of Income')\n",
    "\n",
    "sns.histplot(x = 'AnnualIncome', data=df_yes, ax=ax[1])\n",
    "ax[1].set_xlabel('Annual Income')\n",
    "ax[1].set_ylabel('Count')\n",
    "ax[1].set_title('Customers - Distribution of Income')\n",
    "plt.show()"
   ]
  },
  {
   "cell_type": "markdown",
   "id": "2771f9da-a394-4292-8d92-acad644b01b3",
   "metadata": {},
   "source": [
    "There are higher incomes for those who are customers of travel insurance"
   ]
  },
  {
   "cell_type": "code",
   "execution_count": 12,
   "id": "f573db04-bc3f-4cda-b68a-b9d1c24e1369",
   "metadata": {},
   "outputs": [
    {
     "data": {
      "image/png": "[encoded data removed]",
      "text/plain": [
       "<Figure size 1080x360 with 2 Axes>"
      ]
     },
     "metadata": {},
     "output_type": "display_data"
    }
   ],
   "source": [
    "# Family Members\n",
    "fig, ax = plt.subplots(1, 2, sharex=True, figsize=(15, 5))\n",
    "sns.countplot(x = 'FamilyMembers', data=df_no, ax=ax[0])\n",
    "ax[0].set_xlabel('Family Members')\n",
    "ax[0].set_ylabel('Count')\n",
    "ax[0].set_title('Non-Customers - Family Members')\n",
    "\n",
    "sns.countplot(x = 'FamilyMembers', data=df_yes, ax=ax[1])\n",
    "ax[1].set_xlabel('Family Members')\n",
    "ax[1].set_ylabel('Count')\n",
    "ax[1].set_title('Customers - Family Members')\n",
    "plt.show()"
   ]
  },
  {
   "cell_type": "code",
   "execution_count": 43,
   "id": "40d5ffb6-6239-4a67-9a44-0c08caf7d295",
   "metadata": {},
   "outputs": [
    {
     "data": {
      "text/html": [
       "<div>\n",
       "<style scoped>\n",
       "    .dataframe tbody tr th:only-of-type {\n",
       "        vertical-align: middle;\n",
       "    }\n",
       "\n",
       "    .dataframe tbody tr th {\n",
       "        vertical-align: top;\n",
       "    }\n",
       "\n",
       "    .dataframe thead th {\n",
       "        text-align: right;\n",
       "    }\n",
       "</style>\n",
       "<table border=\"1\" class=\"dataframe\">\n",
       "  <thead>\n",
       "    <tr style=\"text-align: right;\">\n",
       "      <th></th>\n",
       "      <th>Family Member</th>\n",
       "      <th>Count</th>\n",
       "      <th>%</th>\n",
       "    </tr>\n",
       "  </thead>\n",
       "  <tbody>\n",
       "    <tr>\n",
       "      <th>0</th>\n",
       "      <td>4</td>\n",
       "      <td>345</td>\n",
       "      <td>27.016445</td>\n",
       "    </tr>\n",
       "    <tr>\n",
       "      <th>1</th>\n",
       "      <td>5</td>\n",
       "      <td>295</td>\n",
       "      <td>23.101018</td>\n",
       "    </tr>\n",
       "    <tr>\n",
       "      <th>2</th>\n",
       "      <td>3</td>\n",
       "      <td>242</td>\n",
       "      <td>18.950666</td>\n",
       "    </tr>\n",
       "    <tr>\n",
       "      <th>3</th>\n",
       "      <td>6</td>\n",
       "      <td>165</td>\n",
       "      <td>12.920908</td>\n",
       "    </tr>\n",
       "    <tr>\n",
       "      <th>4</th>\n",
       "      <td>7</td>\n",
       "      <td>97</td>\n",
       "      <td>7.595928</td>\n",
       "    </tr>\n",
       "    <tr>\n",
       "      <th>5</th>\n",
       "      <td>2</td>\n",
       "      <td>66</td>\n",
       "      <td>5.168363</td>\n",
       "    </tr>\n",
       "    <tr>\n",
       "      <th>6</th>\n",
       "      <td>8</td>\n",
       "      <td>38</td>\n",
       "      <td>2.975724</td>\n",
       "    </tr>\n",
       "    <tr>\n",
       "      <th>7</th>\n",
       "      <td>9</td>\n",
       "      <td>29</td>\n",
       "      <td>2.270948</td>\n",
       "    </tr>\n",
       "  </tbody>\n",
       "</table>\n",
       "</div>"
      ],
      "text/plain": [
       "   Family Member  Count          %\n",
       "0              4    345  27.016445\n",
       "1              5    295  23.101018\n",
       "2              3    242  18.950666\n",
       "3              6    165  12.920908\n",
       "4              7     97   7.595928\n",
       "5              2     66   5.168363\n",
       "6              8     38   2.975724\n",
       "7              9     29   2.270948"
      ]
     },
     "execution_count": 43,
     "metadata": {},
     "output_type": "execute_result"
    }
   ],
   "source": [
    "df_no_age = df_no['FamilyMembers'].value_counts().to_frame()\n",
    "df_no_age.reset_index(inplace=True)\n",
    "df_no_age.rename(columns = {'index' : 'Family Member', 'FamilyMembers': 'Count'}, inplace=True)\n",
    "df_no_age['%'] = df_no_age['Count'] / df_no_age['Count'].sum() * 100\n",
    "df_no_age"
   ]
  },
  {
   "cell_type": "code",
   "execution_count": 44,
   "id": "f813318c-a9c7-492d-a6da-d5f99ea9ceee",
   "metadata": {},
   "outputs": [
    {
     "data": {
      "text/html": [
       "<div>\n",
       "<style scoped>\n",
       "    .dataframe tbody tr th:only-of-type {\n",
       "        vertical-align: middle;\n",
       "    }\n",
       "\n",
       "    .dataframe tbody tr th {\n",
       "        vertical-align: top;\n",
       "    }\n",
       "\n",
       "    .dataframe thead th {\n",
       "        text-align: right;\n",
       "    }\n",
       "</style>\n",
       "<table border=\"1\" class=\"dataframe\">\n",
       "  <thead>\n",
       "    <tr style=\"text-align: right;\">\n",
       "      <th></th>\n",
       "      <th>Family Member</th>\n",
       "      <th>Count</th>\n",
       "      <th>%</th>\n",
       "    </tr>\n",
       "  </thead>\n",
       "  <tbody>\n",
       "    <tr>\n",
       "      <th>0</th>\n",
       "      <td>4</td>\n",
       "      <td>160</td>\n",
       "      <td>22.535211</td>\n",
       "    </tr>\n",
       "    <tr>\n",
       "      <th>1</th>\n",
       "      <td>3</td>\n",
       "      <td>135</td>\n",
       "      <td>19.014085</td>\n",
       "    </tr>\n",
       "    <tr>\n",
       "      <th>2</th>\n",
       "      <td>5</td>\n",
       "      <td>131</td>\n",
       "      <td>18.450704</td>\n",
       "    </tr>\n",
       "    <tr>\n",
       "      <th>3</th>\n",
       "      <td>6</td>\n",
       "      <td>129</td>\n",
       "      <td>18.169014</td>\n",
       "    </tr>\n",
       "    <tr>\n",
       "      <th>4</th>\n",
       "      <td>7</td>\n",
       "      <td>81</td>\n",
       "      <td>11.408451</td>\n",
       "    </tr>\n",
       "    <tr>\n",
       "      <th>5</th>\n",
       "      <td>2</td>\n",
       "      <td>27</td>\n",
       "      <td>3.802817</td>\n",
       "    </tr>\n",
       "    <tr>\n",
       "      <th>6</th>\n",
       "      <td>9</td>\n",
       "      <td>26</td>\n",
       "      <td>3.661972</td>\n",
       "    </tr>\n",
       "    <tr>\n",
       "      <th>7</th>\n",
       "      <td>8</td>\n",
       "      <td>21</td>\n",
       "      <td>2.957746</td>\n",
       "    </tr>\n",
       "  </tbody>\n",
       "</table>\n",
       "</div>"
      ],
      "text/plain": [
       "   Family Member  Count          %\n",
       "0              4    160  22.535211\n",
       "1              3    135  19.014085\n",
       "2              5    131  18.450704\n",
       "3              6    129  18.169014\n",
       "4              7     81  11.408451\n",
       "5              2     27   3.802817\n",
       "6              9     26   3.661972\n",
       "7              8     21   2.957746"
      ]
     },
     "execution_count": 44,
     "metadata": {},
     "output_type": "execute_result"
    }
   ],
   "source": [
    "df_yes_age = df_yes['FamilyMembers'].value_counts().to_frame()\n",
    "df_yes_age.reset_index(inplace=True)\n",
    "df_yes_age.rename(columns = {'index' : 'Family Member', 'FamilyMembers': 'Count'}, inplace=True)\n",
    "df_yes_age['%'] = df_yes_age['Count'] / df_yes_age['Count'].sum() * 100\n",
    "df_yes_age"
   ]
  },
  {
   "cell_type": "markdown",
   "id": "c0911b8f-59e2-454f-aa67-4723af8935a5",
   "metadata": {},
   "source": [
    "There is no difference in family members for customers / non-customers"
   ]
  },
  {
   "cell_type": "code",
   "execution_count": null,
   "id": "ca5649fa-4fa9-4f1b-ba25-2f2cde6167d9",
   "metadata": {},
   "outputs": [],
   "source": []
  }
 ],
 "metadata": {
  "kernelspec": {
   "display_name": "finance",
   "language": "python",
   "name": "finance"
  },
  "language_info": {
   "codemirror_mode": {
    "name": "ipython",
    "version": 3
   },
   "file_extension": ".py",
   "mimetype": "text/x-python",
   "name": "python",
   "nbconvert_exporter": "python",
   "pygments_lexer": "ipython3",
   "version": "3.10.0"
  }
 },
 "nbformat": 4,
 "nbformat_minor": 5
}
